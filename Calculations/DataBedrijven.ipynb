{
 "cells": [
  {
   "cell_type": "code",
   "execution_count": 60,
   "id": "cd5162e1",
   "metadata": {},
   "outputs": [
    {
     "name": "stdout",
     "output_type": "stream",
     "text": [
      "       Van Datum Van Tijdstip   Tot Datum Tot Tijdstip        Register  \\\n",
      "16713 2023-01-01     00:00:00  01-01-2023     00:15:00  Injectie Nacht   \n",
      "16715 2023-01-01     00:15:00  01-01-2023     00:30:00  Injectie Nacht   \n",
      "16717 2023-01-01     00:30:00  01-01-2023     00:45:00  Injectie Nacht   \n",
      "16719 2023-01-01     00:45:00  01-01-2023     01:00:00  Injectie Nacht   \n",
      "16721 2023-01-01     01:00:00  01-01-2023     01:15:00  Injectie Nacht   \n",
      "...          ...          ...         ...          ...             ...   \n",
      "84479 2023-12-31     22:45:00  31-12-2023     23:00:00  Injectie Nacht   \n",
      "84481 2023-12-31     23:00:00  31-12-2023     23:15:00  Injectie Nacht   \n",
      "84483 2023-12-31     23:15:00  31-12-2023     23:30:00  Injectie Nacht   \n",
      "84485 2023-12-31     23:30:00  31-12-2023     23:45:00  Injectie Nacht   \n",
      "84487 2023-12-31     23:45:00  01-01-2024     00:00:00  Injectie Nacht   \n",
      "\n",
      "       Volume Validatiestatus  \n",
      "16713     0.0     Gevalideerd  \n",
      "16715     0.0     Gevalideerd  \n",
      "16717     0.0     Gevalideerd  \n",
      "16719     0.0     Gevalideerd  \n",
      "16721     0.0     Gevalideerd  \n",
      "...       ...             ...  \n",
      "84479     0.0     Gevalideerd  \n",
      "84481     0.0     Gevalideerd  \n",
      "84483     0.0     Gevalideerd  \n",
      "84485     0.0     Gevalideerd  \n",
      "84487     0.0     Gevalideerd  \n",
      "\n",
      "[33791 rows x 7 columns]\n",
      "            Datum      Tijd  TotaalVermogen Dag/Nacht\n",
      "184    02.01.2022  22:15:00            84.0         N\n",
      "185    02.01.2022  22:30:00            98.0         N\n",
      "186    02.01.2022  22:45:00            84.0         N\n",
      "187    02.01.2022  23:00:00            84.0         N\n",
      "188    02.01.2022  23:15:00            91.0         N\n",
      "...           ...       ...             ...       ...\n",
      "34967  31.12.2022  06:00:00            56.0         N\n",
      "34968  31.12.2022  06:15:00            63.0         N\n",
      "34969  31.12.2022  06:30:00            49.0         N\n",
      "34970  31.12.2022  06:45:00            63.0         N\n",
      "34971  31.12.2022  07:00:00            56.0         N\n",
      "\n",
      "[26816 rows x 4 columns]\n"
     ]
    }
   ],
   "source": [
    "# import necessary libraries \n",
    "import pandas as pd \n",
    "import os \n",
    "import glob \n",
    "import numpy as np  # Assuming you have NumPy for creating the array\n",
    "\n",
    "# use glob to get all the csv files  \n",
    "# in the folder \n",
    "path = \"/Users/axellemoortgat/Projects/SimulationP2PEnergy/Data\" \n",
    "\n",
    "csv_file_path1 = path + \"/AgoriaA_2022.csv\"\n",
    "csv_file_path2 = path + \"/ec1.csv\"\n",
    "\n",
    "\n",
    "\n",
    "\n",
    "# Read the CSV files into Pandas DataFrame\n",
    "columns_to_keep = ['Datum', 'Tijd', 'Actief', 'Inductief', 'Capacitief', 'CosPhi', 'Dag/Nacht']\n",
    "df1 = pd.read_csv(csv_file_path1, sep=';', usecols=columns_to_keep)\n",
    "\n",
    "columns_to_keep = ['Van Datum', 'Van Tijdstip', 'Tot Datum', 'Tot Tijdstip', 'Register', 'Volume', 'Validatiestatus']\n",
    "df2 = pd.read_csv(csv_file_path2, sep=';', usecols=columns_to_keep)\n",
    "\n",
    "df2['Volume'] = pd.to_numeric(df2['Volume'].str.replace(',', '.'))\n",
    "df2['Van Datum'] = pd.to_datetime(df2['Van Datum'], format='%d-%m-%Y')\n",
    "\n",
    "\n",
    "# Convert relevant columns to numeric types\n",
    "df1['Actief'] = pd.to_numeric(df1['Actief'], errors='coerce')\n",
    "df1['Inductief'] = pd.to_numeric(df1['Inductief'], errors='coerce')\n",
    "df1['Capacitief'] = pd.to_numeric(df1['Capacitief'], errors='coerce')\n",
    "df1['CosPhi'] = pd.to_numeric(df1['CosPhi'], errors='coerce')\n",
    "\n",
    "# Handle missing or NaN values if needed (this will replace NaN with 0)\n",
    "df1 = df1.fillna(0)\n",
    "\n",
    "# Calculate the total power\n",
    "df1['TotaalVermogen'] = (df1['Actief'] + (df1['Inductief']**2 + df1['Capacitief']**2)**0.5)\n",
    "\n",
    "# Calculate the active power using the cosine of the phase angle\n",
    "df1['Actief'] = df1['TotaalVermogen'] * df1['CosPhi']\n",
    "\n",
    "\n",
    "bedrijf = df1[['Datum', 'Tijd','TotaalVermogen', 'Dag/Nacht']]\n",
    "bedrijf = bedrijf[ (bedrijf['Dag/Nacht'] != 'W') ]\n",
    "\n",
    "\n",
    "\n",
    "injectie_df2 = df2[df2['Register'].str.contains('Injectie') & (df2['Validatiestatus'] == 'Gevalideerd')]\n",
    "df2_injectie_2023 = injectie_df2[injectie_df2['Van Datum'].dt.year == 2023]\n",
    "\n",
    "# Display the result\n",
    "print(df2_injectie_2023)\n",
    "print(bedrijf)"
   ]
  },
  {
   "cell_type": "code",
   "execution_count": 61,
   "id": "e6d110e3",
   "metadata": {},
   "outputs": [
    {
     "name": "stdout",
     "output_type": "stream",
     "text": [
      "184      2023-01-02\n",
      "185      2023-01-02\n",
      "186      2023-01-02\n",
      "187      2023-01-02\n",
      "188      2023-01-02\n",
      "            ...    \n",
      "34966    2023-12-31\n",
      "34967    2023-12-31\n",
      "34968    2023-12-31\n",
      "34969    2023-12-31\n",
      "34970    2023-12-31\n",
      "Name: Datum, Length: 26815, dtype: object\n"
     ]
    }
   ],
   "source": [
    "# Converteer de 'Datum' kolom naar het gewenste formaat\n",
    "bedrijf['Datum'] = pd.to_datetime(bedrijf['Datum'], format='%d.%m.%Y')\n",
    "\n",
    "# Update het jaar naar 2023\n",
    "bedrijf['Datum'] = bedrijf['Datum'].apply(lambda x: x.replace(year=2023))\n",
    "\n",
    "# Converteer de 'Datum' kolom naar het nieuwe formaat\n",
    "bedrijf['Datum'] = bedrijf['Datum'].dt.strftime('%Y-%m-%d')\n",
    "\n",
    "bedrijf = bedrijf.drop(bedrijf.index[-1])\n",
    "\n",
    "\n",
    "# Toon het resultaat\n",
    "print(bedrijf['Datum'])"
   ]
  },
  {
   "cell_type": "code",
   "execution_count": 62,
   "id": "69ee68e4",
   "metadata": {},
   "outputs": [
    {
     "name": "stdout",
     "output_type": "stream",
     "text": [
      "Total Sum Injectie: 4265.8769999999995\n",
      "Total Sum Afname: 10792423.884176433\n"
     ]
    }
   ],
   "source": [
    "# TOTAL INJECTIE/AFNAME 2023\n",
    "total_sum_injectie_df2_2023 = df2_injectie_2023['Volume'].sum()\n",
    "total_sum_afname_bedrijf_2023 = bedrijf['TotaalVermogen'].sum()\n",
    "\n",
    "# Display the total sum\n",
    "print(f'Total Sum Injectie: {total_sum_injectie_df2_2023}')\n",
    "print(f'Total Sum Afname: {total_sum_afname_bedrijf_2023}')"
   ]
  },
  {
   "cell_type": "code",
   "execution_count": 63,
   "id": "0a23fc7a",
   "metadata": {},
   "outputs": [],
   "source": [
    "bedrijf = bedrijf.rename(columns={'Datum': 'Van Datum', 'Tijd': 'Van Tijdstip'})\n",
    "\n",
    "df2['Van Datum'] = pd.to_datetime(df2['Van Datum'])\n",
    "bedrijf['Van Datum'] = pd.to_datetime(bedrijf['Van Datum'])\n",
    "\n",
    "\n",
    "\n",
    "merged_df_2023 = pd.merge(bedrijf, df2_injectie_2023, on=['Van Datum', 'Van Tijdstip'])\n"
   ]
  },
  {
   "cell_type": "code",
   "execution_count": 64,
   "id": "c0b01964",
   "metadata": {},
   "outputs": [
    {
     "name": "stdout",
     "output_type": "stream",
     "text": [
      "       Van Datum Van Tijdstip  Afname Dag/Nacht   Tot Datum Tot Tijdstip  \\\n",
      "0     2023-01-02     22:15:00    84.0         N  02-01-2023     22:30:00   \n",
      "1     2023-01-02     22:30:00    98.0         N  02-01-2023     22:45:00   \n",
      "2     2023-01-02     22:45:00    84.0         N  02-01-2023     23:00:00   \n",
      "3     2023-01-02     23:00:00    84.0         N  02-01-2023     23:15:00   \n",
      "4     2023-01-02     23:15:00    91.0         N  02-01-2023     23:30:00   \n",
      "...          ...          ...     ...       ...         ...          ...   \n",
      "25806 2023-12-31     05:45:00    56.0         N  31-12-2023     06:00:00   \n",
      "25807 2023-12-31     06:00:00    56.0         N  31-12-2023     06:15:00   \n",
      "25808 2023-12-31     06:15:00    63.0         N  31-12-2023     06:30:00   \n",
      "25809 2023-12-31     06:30:00    49.0         N  31-12-2023     06:45:00   \n",
      "25810 2023-12-31     06:45:00    63.0         N  31-12-2023     07:00:00   \n",
      "\n",
      "             Register  Injectie Validatiestatus  P2PTransactie  P2POverschot  \n",
      "0      Injectie Nacht       0.0     Gevalideerd            0.0           0.0  \n",
      "1      Injectie Nacht       0.0     Gevalideerd            0.0           0.0  \n",
      "2      Injectie Nacht       0.0     Gevalideerd            0.0           0.0  \n",
      "3      Injectie Nacht       0.0     Gevalideerd            0.0           0.0  \n",
      "4      Injectie Nacht       0.0     Gevalideerd            0.0           0.0  \n",
      "...               ...       ...             ...            ...           ...  \n",
      "25806  Injectie Nacht       0.0     Gevalideerd            0.0           0.0  \n",
      "25807  Injectie Nacht       0.0     Gevalideerd            0.0           0.0  \n",
      "25808  Injectie Nacht       0.0     Gevalideerd            0.0           0.0  \n",
      "25809  Injectie Nacht       0.0     Gevalideerd            0.0           0.0  \n",
      "25810  Injectie Nacht       0.0     Gevalideerd            0.0           0.0  \n",
      "\n",
      "[25811 rows x 11 columns]\n"
     ]
    }
   ],
   "source": [
    "merged_df_2023 = merged_df_2023.rename(columns={'TotaalVermogen': 'Afname', 'Volume': 'Injectie'})\n",
    "\n",
    "# Create a new column for the subtraction result\n",
    "merged_df_2023['P2PTransactie'] = merged_df_2023[['Injectie', 'Afname']].min(axis=1)\n",
    "merged_df_2023['P2POverschot'] = merged_df_2023['Injectie'] - merged_df_2023['P2PTransactie']\n",
    "print(merged_df_2023)\n"
   ]
  },
  {
   "cell_type": "code",
   "execution_count": 65,
   "id": "d0e13b82",
   "metadata": {},
   "outputs": [
    {
     "name": "stdout",
     "output_type": "stream",
     "text": [
      "Rows with positive P2POverschot in Merged DataFrame for Dag:\n",
      "       Van Datum Van Tijdstip  Afname  Injectie  P2PTransactie  P2POverschot\n",
      "9730  2023-05-26     08:45:00     0.0     0.002            0.0         0.002\n",
      "9732  2023-05-26     09:15:00     0.0     0.004            0.0         0.004\n",
      "9733  2023-05-26     09:30:00     0.0     0.121            0.0         0.121\n",
      "9734  2023-05-26     09:45:00     0.0     0.936            0.0         0.936\n",
      "9735  2023-05-26     10:00:00     0.0     1.260            0.0         1.260\n",
      "...          ...          ...     ...       ...            ...           ...\n",
      "25543 2023-12-28     12:00:00     0.0     0.001            0.0         0.001\n",
      "25636 2023-12-29     11:15:00     0.0     0.003            0.0         0.003\n",
      "25637 2023-12-29     11:30:00     0.0     0.003            0.0         0.003\n",
      "25638 2023-12-29     11:45:00     0.0     0.001            0.0         0.001\n",
      "25745 2023-12-30     14:30:00     0.0     0.002            0.0         0.002\n",
      "\n",
      "[732 rows x 6 columns]\n"
     ]
    }
   ],
   "source": [
    "# Display rows where P2POverschot is negative for merged_dag_df\n",
    "rest_injection_2023 = merged_df_2023[merged_df_2023['P2POverschot'] > 0]\n",
    "print(\"Rows with positive P2POverschot in Merged DataFrame for Dag:\")\n",
    "print(rest_injection_2023[['Van Datum', 'Van Tijdstip', 'Afname', 'Injectie', 'P2PTransactie', 'P2POverschot']])\n"
   ]
  },
  {
   "cell_type": "code",
   "execution_count": 66,
   "id": "61f02f2e",
   "metadata": {},
   "outputs": [
    {
     "name": "stdout",
     "output_type": "stream",
     "text": [
      "Total not transfered 2023: 391.264\n"
     ]
    }
   ],
   "source": [
    "total_not_transfered_2023 = rest_injection_2023['P2POverschot'].sum()\n",
    "print(f'Total not transfered 2023: {total_not_transfered_2023}')"
   ]
  },
  {
   "cell_type": "code",
   "execution_count": 67,
   "id": "e0abce06",
   "metadata": {},
   "outputs": [
    {
     "name": "stdout",
     "output_type": "stream",
     "text": [
      "Total transfered 2023: 3874.6129999999994\n"
     ]
    }
   ],
   "source": [
    "total_transfered_2023 = total_sum_injectie_df2_2023-total_not_transfered_2023\n",
    "print(f'Total transfered 2023: {total_transfered_2023}')"
   ]
  },
  {
   "cell_type": "code",
   "execution_count": 68,
   "id": "05d94099",
   "metadata": {},
   "outputs": [
    {
     "name": "stdout",
     "output_type": "stream",
     "text": [
      "Rendement 2023: 0.9082805247314912\n"
     ]
    }
   ],
   "source": [
    "print(f'Rendement 2023: {total_transfered_2023 /(total_transfered_2023+total_not_transfered_2023)}')"
   ]
  },
  {
   "cell_type": "code",
   "execution_count": null,
   "id": "8c57a0dd",
   "metadata": {},
   "outputs": [],
   "source": []
  },
  {
   "cell_type": "code",
   "execution_count": null,
   "id": "ae7c178a",
   "metadata": {},
   "outputs": [],
   "source": []
  }
 ],
 "metadata": {
  "kernelspec": {
   "display_name": "Python 3 (ipykernel)",
   "language": "python",
   "name": "python3"
  },
  "language_info": {
   "codemirror_mode": {
    "name": "ipython",
    "version": 3
   },
   "file_extension": ".py",
   "mimetype": "text/x-python",
   "name": "python",
   "nbconvert_exporter": "python",
   "pygments_lexer": "ipython3",
   "version": "3.11.5"
  }
 },
 "nbformat": 4,
 "nbformat_minor": 5
}
