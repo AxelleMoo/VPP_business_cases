{
 "cells": [
  {
   "cell_type": "code",
   "execution_count": 185,
   "id": "b4d11961",
   "metadata": {},
   "outputs": [
    {
     "name": "stdout",
     "output_type": "stream",
     "text": [
      "        Van Datum Van Tijdstip   Tot Datum Tot Tijdstip        Register  \\\n",
      "143617 2023-01-01     00:00:00  01/01/2023     00:15:00  Injectie Nacht   \n",
      "143619 2023-01-01     00:15:00  01/01/2023     00:30:00  Injectie Nacht   \n",
      "143621 2023-01-01     00:30:00  01/01/2023     00:45:00  Injectie Nacht   \n",
      "143623 2023-01-01     00:45:00  01/01/2023     01:00:00  Injectie Nacht   \n",
      "143625 2023-01-01     01:00:00  01/01/2023     01:15:00  Injectie Nacht   \n",
      "...           ...          ...         ...          ...             ...   \n",
      "210213 2023-12-13     20:30:00  13/12/2023     20:45:00    Injectie Dag   \n",
      "210215 2023-12-13     20:45:00  13/12/2023     21:00:00    Injectie Dag   \n",
      "210217 2023-12-13     21:00:00  13/12/2023     21:15:00  Injectie Nacht   \n",
      "210219 2023-12-13     21:15:00  13/12/2023     21:30:00  Injectie Nacht   \n",
      "210221 2023-12-13     21:30:00  13/12/2023     21:45:00  Injectie Nacht   \n",
      "\n",
      "        Volume Validatiestatus  \n",
      "143617     0.0     Gevalideerd  \n",
      "143619     0.0     Gevalideerd  \n",
      "143621     0.0     Gevalideerd  \n",
      "143623     0.0     Gevalideerd  \n",
      "143625     0.0     Gevalideerd  \n",
      "...        ...             ...  \n",
      "210213     0.0     Gevalideerd  \n",
      "210215     0.0     Gevalideerd  \n",
      "210217     0.0     Gevalideerd  \n",
      "210219     0.0     Gevalideerd  \n",
      "210221     0.0     Gevalideerd  \n",
      "\n",
      "[33295 rows x 7 columns]\n"
     ]
    }
   ],
   "source": [
    "\n",
    "# import necessary libraries \n",
    "import pandas as pd \n",
    "import os \n",
    "import glob \n",
    "import numpy as np  # Assuming you have NumPy for creating the array\n",
    "\n",
    "  \n",
    "  \n",
    "# use glob to get all the csv files  \n",
    "# in the folder \n",
    "path = \"/Users/axellemoortgat/Projects/SimulationP2PEnergy/Data\" \n",
    "\n",
    "csv_file_path1 = path + \"/Mavianto.csv\"\n",
    "csv_file_path2 = path + \"/AdamBV.csv\"\n",
    "csv_file_path3 = path + \"/ec1.csv\"\n",
    "\n",
    "#Engie flow\n",
    "P2P_price =  np.array([0.131, 0.142, 0.112, 0.1085, 0.086, 0.0975, 0.0885, 0.1045, 0.107, 0.0995, 0.104, 0.1155])\n",
    "Injection_price = np.array([0.082,0.09,0.068,0.066,0.05,0.058,0.057,0.07,0.072,0.066,0.069,0.078])\n",
    "  \n",
    "# Read the CSV files into Pandas DataFrame\n",
    "columns_to_keep = ['Van Datum', 'Van Tijdstip', 'Tot Datum', 'Tot Tijdstip', 'Register', 'Volume', 'Validatiestatus']\n",
    "df1 = pd.read_csv(csv_file_path1, sep=';', usecols=columns_to_keep)\n",
    "df2 = pd.read_csv(csv_file_path2, sep=';', usecols=columns_to_keep)\n",
    "df3 = pd.read_csv(csv_file_path3, sep=';', usecols=columns_to_keep)\n",
    "\n",
    "df3['Volume'] = pd.to_numeric(df3['Volume'].str.replace(',', '.'))\n",
    "df2['Volume'] = pd.to_numeric(df2['Volume'].str.replace(',', '.'))\n",
    "df1['Volume'] = pd.to_numeric(df1['Volume'].str.replace(',', '.'))\n",
    "#df3['Volume'] = pd.to_numeric(df3['Volume'], errors='coerce')\n",
    "\n",
    "\n",
    "df1['Van Datum'] = pd.to_datetime(df1['Van Datum'], format='%d/%m/%Y')\n",
    "df2['Van Datum'] = pd.to_datetime(df2['Van Datum'], format='%d-%m-%Y')\n",
    "df3['Van Datum'] = pd.to_datetime(df3['Van Datum'], format='%d-%m-%Y')\n",
    "\n",
    "\n",
    "\n",
    "\n",
    "# Filter rows in each DataFrame based on the register type\n",
    "# Nacht data\n",
    "afname_nacht_df1 = df1[(df1['Register'] == 'Afname Nacht') & (df1['Validatiestatus'] == 'Gevalideerd')]\n",
    "injectie_nacht_df1 = df1[(df1['Register'] == 'Injectie Nacht') & (df1['Validatiestatus'] == 'Gevalideerd')]\n",
    "afname_nacht_df2 = df2[(df2['Register'] == 'Afname Nacht') & (df2['Validatiestatus'] == 'Gevalideerd')]\n",
    "injectie_nacht_df2 = df2[(df2['Register'] == 'Injectie Nacht') & (df2['Validatiestatus'] == 'Gevalideerd')]\n",
    "afname_nacht_df3 = df3[(df3['Register'] == 'Afname Nacht') & (df3['Validatiestatus'] == 'Gevalideerd')]\n",
    "injectie_nacht_df3 = df3[(df3['Register'] == 'Injectie Nacht') & (df3['Validatiestatus'] == 'Gevalideerd')]\n",
    "\n",
    "# Dag data\n",
    "afname_dag_df1 = df1[(df1['Register'] == 'Afname Dag') & (df1['Validatiestatus'] == 'Gevalideerd')]\n",
    "injectie_dag_df1 = df1[(df1['Register'] == 'Injectie Dag') & (df1['Validatiestatus'] == 'Gevalideerd')]\n",
    "afname_dag_df2 = df2[(df2['Register'] == 'Afname Dag') & (df2['Validatiestatus'] == 'Gevalideerd')]\n",
    "injectie_dag_df2 = df2[(df2['Register'] == 'Injectie Dag') & (df2['Validatiestatus'] == 'Gevalideerd')]\n",
    "afname_dag_df3 = df3[(df3['Register'] == 'Afname Dag') & (df3['Validatiestatus'] == 'Gevalideerd')]\n",
    "injectie_dag_df3 = df3[(df3['Register'] == 'Injectie Dag') & (df3['Validatiestatus'] == 'Gevalideerd')]\n",
    "\n",
    "injectie_df1 = df1[df1['Register'].str.contains('Injectie') & (df1['Validatiestatus'] == 'Gevalideerd')]\n",
    "df1_injectie_2023 = injectie_df1[injectie_df1['Van Datum'].dt.year == 2023]\n",
    "\n",
    "afname_df2 = df2[df2['Register'].str.contains('Afname') & (df2['Validatiestatus'] == 'Gevalideerd')]\n",
    "df2_afname_2023 = afname_df2[afname_df2['Van Datum'].dt.year == 2023]\n",
    "\n",
    "injectie_df3 = df3[df3['Register'].str.contains('Injectie') & (df3['Validatiestatus'] == 'Gevalideerd')]\n",
    "df3_injectie_2023 = injectie_df3[injectie_df3['Van Datum'].dt.year == 2023]\n",
    "\n",
    "print(df1_injectie_2023)\n",
    "\n"
   ]
  },
  {
   "cell_type": "code",
   "execution_count": 159,
   "id": "1da7be49",
   "metadata": {},
   "outputs": [],
   "source": [
    "contract_prices = {\n",
    "            'Engie FLOW variabel': {\n",
    "                'Injection_price': [0.082, 0.09, 0.068, 0.066, 0.05, 0.058, 0.057, 0.07, 0.072, 0.066, 0.069, 0.078],\n",
    "            },\n",
    "            'Engie DIRECT variabel': {\n",
    "                'Injection_price': [0.06, 0.066, 0.05, 0.049, 0.037, 0.043, 0.035, 0.042, 0.043, 0.04, 0.042, 0.043],\n",
    "            },\n",
    "            'Engie EASY variabel': {\n",
    "                'Injection_price': [0.195, 0.096, 0.08, 0.063, 0.059, 0.049, 0.052, 0.045, 0.052, 0.045, 0.052, 0.052, 0.063, 0.056],\n",
    "            },\n",
    "            'Engie EASY vast': {\n",
    "                'Injection_price': [0.051, 0.051, 0.051, 0.051, 0.051, 0.051, 0.051, 0.051, 0.051, 0.051, 0.051, 0.051],\n",
    "            },\n",
    "            'Engie DRIVE vast': {\n",
    "                'Injection_price': [0.051, 0.051, 0.051, 0.051, 0.051, 0.051, 0.051, 0.051, 0.051, 0.051, 0.051, 0.051],\n",
    "            },\n",
    "            'Eneco zon & wind flex': {\n",
    "                'Injection_price': [0.097, 0.106, 0.081, 0.078, 0.059, 0.069, 0.056, 0.068, 0.07, 0.064, 0.068, 0.068],\n",
    "            },\n",
    "            'Eneco zon & wind vast': {\n",
    "                'Injection_price': [0.097, 0.106, 0.081, 0.078, 0.059, 0.069, 0.056, 0.068, 0.07, 0.064, 0.068, 0.068],\n",
    "            },\n",
    "            'Engie Easy pro december 2023': {\n",
    "                'Substraction_price': [0.419, 0.213, 0.199, 0.167, 0.160, 0.139, 0.146, 0.133, 0.146, 0.147, 0.167, 0.154],\n",
    "            }, \n",
    "            'Engie Easy pro maart 2023': {\n",
    "                'Substraction_price': [0.419, 0.419, 0.419, 0.173, 0.173, 0.173, 0.154, 0.154, 0.154, 0.170, 0.170,0.170],\n",
    "            }\n",
    "\n",
    "        }\n",
    "\n"
   ]
  },
  {
   "cell_type": "code",
   "execution_count": 160,
   "id": "f69e6a7e",
   "metadata": {},
   "outputs": [
    {
     "name": "stdout",
     "output_type": "stream",
     "text": [
      "[0.2395, 0.1395, 0.1245, 0.10800000000000001, 0.0985, 0.091, 0.0905, 0.08750000000000001, 0.0945, 0.0935, 0.10450000000000001, 0.0985]\n"
     ]
    }
   ],
   "source": [
    "injection_price = contract_prices['Engie DIRECT variabel']['Injection_price']\n",
    "extraction_price = contract_prices['Engie Easy pro december 2023']['Substraction_price']\n",
    "p2p_price = [(extraction + injection) / 2 for extraction, injection in zip(extraction_price, injection_price)]\n",
    "print(p2p_price)"
   ]
  },
  {
   "cell_type": "code",
   "execution_count": 161,
   "id": "4ae43457",
   "metadata": {},
   "outputs": [],
   "source": [
    "# Filter rows based on common timeframe\n",
    "#common_timeframe = pd.merge(df1[['Van Datum', 'Van Tijdstip']], df2[['Van Datum', 'Van Tijdstip']], on=['Van Datum', 'Van Tijdstip'])\n",
    "#common_timeframe = common_timeframe.drop_duplicates()\n",
    "#print(common_timeframe)\n",
    "\n",
    "#df1 = pd.merge(df1, common_timeframe, on=['Van Datum', 'Van Tijdstip'])\n",
    "#df2 = pd.merge(df2, common_timeframe, on=['Van Datum', 'Van Tijdstip'])"
   ]
  },
  {
   "cell_type": "markdown",
   "id": "d235eeb4",
   "metadata": {},
   "source": [
    "# In case of 100% rendement: what are savings prosument"
   ]
  },
  {
   "cell_type": "code",
   "execution_count": 162,
   "id": "675bcb8e",
   "metadata": {},
   "outputs": [
    {
     "name": "stdout",
     "output_type": "stream",
     "text": [
      "      Month   Volume  Injection price/kWh  P2P price/kWh  P2P Billing  \\\n",
      "0   2023-01   30.680                0.082         0.2395     7.347860   \n",
      "1   2023-02  115.615                0.090         0.1395    16.128293   \n",
      "2   2023-03  165.933                0.068         0.1245    20.658658   \n",
      "3   2023-04  320.140                0.066         0.1080    34.575120   \n",
      "4   2023-05  291.899                0.050         0.0985    28.752052   \n",
      "5   2023-06  773.805                0.058         0.0910    70.416255   \n",
      "6   2023-07  576.633                0.057         0.0905    52.185287   \n",
      "7   2023-08  421.667                0.070         0.0875    36.895862   \n",
      "8   2023-09  352.604                0.072         0.0945    33.321078   \n",
      "9   2023-10  164.657                0.066         0.0935    15.395430   \n",
      "10  2023-11  105.934                0.069         0.1045    11.070103   \n",
      "11  2023-12   19.693                0.078         0.0985     1.939761   \n",
      "\n",
      "    Normal Billing    Savings  \n",
      "0         2.515760   4.832100  \n",
      "1        10.405350   5.722943  \n",
      "2        11.283444   9.375214  \n",
      "3        21.129240  13.445880  \n",
      "4        14.594950  14.157101  \n",
      "5        44.880690  25.535565  \n",
      "6        32.868081  19.317206  \n",
      "7        29.516690   7.379172  \n",
      "8        25.387488   7.933590  \n",
      "9        10.867362   4.528067  \n",
      "10        7.309446   3.760657  \n",
      "11        1.536054   0.403707  \n"
     ]
    },
    {
     "name": "stderr",
     "output_type": "stream",
     "text": [
      "/var/folders/p2/1w8jr4kx7ksbvsyz6j0v4j580000gn/T/ipykernel_83365/485482975.py:3: SettingWithCopyWarning: \n",
      "A value is trying to be set on a copy of a slice from a DataFrame.\n",
      "Try using .loc[row_indexer,col_indexer] = value instead\n",
      "\n",
      "See the caveats in the documentation: https://pandas.pydata.org/pandas-docs/stable/user_guide/indexing.html#returning-a-view-versus-a-copy\n",
      "  df1_injectie_2023['Month'] = df1_injectie_2023['Van Datum'].dt.to_period('M')\n"
     ]
    }
   ],
   "source": [
    "#SAVINGS PROSUMENT IF 100% RENDEMENT\n",
    "\n",
    "df1_injectie_2023['Month'] = df1_injectie_2023['Van Datum'].dt.to_period('M')\n",
    "\n",
    "# Group by the month and sum the 'Volume'\n",
    "monthly_sum_df1_2023 = df1_injectie_2023.groupby('Month')['Volume'].sum().reset_index()\n",
    "\n",
    "monthly_sum_df1_2023['Injection price/kWh'] = Injection_price\n",
    "\n",
    "monthly_sum_df1_2023['P2P price/kWh'] = p2p_price\n",
    "\n",
    "monthly_sum_df1_2023['P2P Billing'] = monthly_sum_df1_2023['Volume']*monthly_sum_df1_2023['P2P price/kWh']\n",
    "\n",
    "monthly_sum_df1_2023['Normal Billing'] = monthly_sum_df1_2023['Volume']*monthly_sum_df1_2023['Injection price/kWh']\n",
    "\n",
    "monthly_sum_df1_2023['Savings'] = monthly_sum_df1_2023['P2P Billing']-monthly_sum_df1_2023['Normal Billing']\n",
    "\n",
    "# Print the result\n",
    "print(monthly_sum_df1_2023)"
   ]
  },
  {
   "cell_type": "code",
   "execution_count": 163,
   "id": "c6089ea1",
   "metadata": {},
   "outputs": [
    {
     "name": "stdout",
     "output_type": "stream",
     "text": [
      "Total Savings: 116.39120249999998\n"
     ]
    }
   ],
   "source": [
    "total_savings = monthly_sum_df1_2023['Savings'].sum()\n",
    "print(f'Total Savings: {total_savings}')"
   ]
  },
  {
   "cell_type": "markdown",
   "id": "e34a5c1a",
   "metadata": {},
   "source": [
    "# Total injectie.afname in kWh"
   ]
  },
  {
   "cell_type": "markdown",
   "id": "9fb43893",
   "metadata": {},
   "source": [
    "## For the whole data frame"
   ]
  },
  {
   "cell_type": "code",
   "execution_count": 166,
   "id": "968e49a9",
   "metadata": {},
   "outputs": [
    {
     "name": "stdout",
     "output_type": "stream",
     "text": [
      "Total Sum Injectie: 6528.130999999999\n",
      "Total Sum Afname: 27992.913999999997\n"
     ]
    }
   ],
   "source": [
    "# TOTAL INJECTIE/AFNAME ALL DATA\n",
    "total_sum_injectie_df1 = injectie_df1['Volume'].sum()\n",
    "total_sum_afname_df2 = afname_df2['Volume'].sum()\n",
    "\n",
    "# Display the total sum\n",
    "print(f'Total Sum Injectie: {total_sum_injectie_df1}')\n",
    "print(f'Total Sum Afname: {total_sum_afname_df2}')"
   ]
  },
  {
   "cell_type": "markdown",
   "id": "46542491",
   "metadata": {},
   "source": [
    "## For 2023 data frame"
   ]
  },
  {
   "cell_type": "code",
   "execution_count": 167,
   "id": "461cf4fc",
   "metadata": {},
   "outputs": [
    {
     "name": "stdout",
     "output_type": "stream",
     "text": [
      "Total Sum Injectie: 3339.2600000000007\n",
      "Total Sum Afname: 21989.651\n"
     ]
    }
   ],
   "source": [
    "# TOTAL INJECTIE/AFNAME 2023\n",
    "total_sum_injectie_df1_2023 = df1_injectie_2023['Volume'].sum()\n",
    "total_sum_afname_df2_2023 = df2_afname_2023['Volume'].sum()\n",
    "\n",
    "# Display the total sum\n",
    "print(f'Total Sum Injectie: {total_sum_injectie_df1_2023}')\n",
    "print(f'Total Sum Afname: {total_sum_afname_df2_2023}')"
   ]
  },
  {
   "cell_type": "markdown",
   "id": "ac5eacc9",
   "metadata": {},
   "source": [
    "# Start calculations rendement"
   ]
  },
  {
   "cell_type": "code",
   "execution_count": 168,
   "id": "a92f7310",
   "metadata": {},
   "outputs": [],
   "source": [
    "# Merge the DataFrames sepperately for day and night\n",
    "merged_dag_df = pd.merge(afname_dag_df2, injectie_dag_df1, on=['Van Datum', 'Van Tijdstip'])\n",
    "merged_nacht_df = pd.merge(afname_nacht_df2, injectie_nacht_df1, on=['Van Datum', 'Van Tijdstip'])\n",
    "\n",
    "merged_dag_df.rename(columns={'Volume_x': 'Afname'}, inplace=True)\n",
    "merged_dag_df.rename(columns={'Volume_y': 'Injectie'}, inplace=True)\n",
    "merged_nacht_df.rename(columns={'Volume_x': 'Afname'}, inplace=True)\n",
    "merged_nacht_df.rename(columns={'Volume_y': 'Injectie'}, inplace=True)\n",
    "\n",
    "\n",
    "\n",
    "# Create a new column for the subtraction result\n",
    "merged_dag_df['P2POverschot'] = merged_dag_df['Afname'] - merged_dag_df['Injectie']\n",
    "merged_nacht_df['P2POverschot'] = merged_nacht_df['Afname'] - merged_nacht_df['Injectie']\n",
    "\n"
   ]
  },
  {
   "cell_type": "code",
   "execution_count": 169,
   "id": "aac38dc7",
   "metadata": {},
   "outputs": [],
   "source": [
    "#Merged for 2023 day/nbight together\n",
    "merged_df_2023 = pd.merge(df2_afname_2023, df1_injectie_2023, on=['Van Datum', 'Van Tijdstip'])\n",
    "\n",
    "merged_df_2023.rename(columns={'Volume_x': 'Afname'}, inplace=True)\n",
    "merged_df_2023.rename(columns={'Volume_y': 'Injectie'}, inplace=True)\n",
    "\n",
    "\n",
    "# Create a new column for the subtraction result\n",
    "merged_df_2023['P2PTransactie'] = merged_df_2023[['Injectie', 'Afname']].min(axis=1)\n",
    "merged_df_2023['P2POverschot'] = merged_df_2023['Injectie'] - merged_df_2023['P2PTransactie']\n"
   ]
  },
  {
   "cell_type": "code",
   "execution_count": 170,
   "id": "1ddf81e0",
   "metadata": {},
   "outputs": [
    {
     "name": "stdout",
     "output_type": "stream",
     "text": [
      "Rows with negative P2POverschot in Merged DataFrame for Dag:\n",
      "       Van Datum Van Tijdstip  Afname  Injectie  P2PTransactie  P2POverschot\n",
      "46    2023-01-01     11:30:00   0.086     0.141          0.086         0.055\n",
      "48    2023-01-01     12:00:00   0.165     0.166          0.165         0.001\n",
      "52    2023-01-01     13:00:00   0.102     0.131          0.102         0.029\n",
      "247   2023-01-03     13:45:00   0.211     0.231          0.211         0.020\n",
      "624   2023-01-07     12:00:00   0.090     0.261          0.090         0.171\n",
      "...          ...          ...     ...       ...            ...           ...\n",
      "32670 2023-12-07     12:30:00   0.195     0.422          0.195         0.227\n",
      "32671 2023-12-07     12:45:00   0.186     0.298          0.186         0.112\n",
      "32949 2023-12-10     10:15:00   0.180     0.381          0.180         0.201\n",
      "32957 2023-12-10     12:15:00   0.172     0.393          0.172         0.221\n",
      "33241 2023-12-13     11:15:00   0.185     0.347          0.185         0.162\n",
      "\n",
      "[3965 rows x 6 columns]\n"
     ]
    }
   ],
   "source": [
    "# Display rows where P2POverschot is negative for merged_dag_df\n",
    "negative_rows_2023 = merged_df_2023[merged_df_2023['P2POverschot'] > 0]\n",
    "print(\"Rows with negative P2POverschot in Merged DataFrame for Dag:\")\n",
    "print(negative_rows_2023[['Van Datum', 'Van Tijdstip', 'Afname', 'Injectie', 'P2PTransactie', 'P2POverschot']])\n",
    "\n",
    "# Display rows where P2POverschot is negative for merged_nacht_df\n",
    " #negative_nacht = merged_nacht_df[merged_nacht_df['P2POverschot'] < 0]\n",
    "#print(\"\\nRows with negative P2POverschot in Merged DataFrame for Nacht:\")\n",
    "#print(negative_rows_nacht[['Van Datum', 'Van Tijdstip', 'P2POverschot']])"
   ]
  },
  {
   "cell_type": "code",
   "execution_count": 171,
   "id": "dc9d258f",
   "metadata": {},
   "outputs": [
    {
     "name": "stdout",
     "output_type": "stream",
     "text": [
      "Total not transfered 2023: 1336.2329999999997\n"
     ]
    }
   ],
   "source": [
    "#total_not_transfered_nacht = negative_rows_nacht['P2POverschot'].sum()\n",
    "#total_not_transfered_dag = negative_rows_dag['P2POverschot'].sum()\n",
    "total_not_transfered_2023 = negative_rows_2023['P2POverschot'].sum()\n",
    "# Display the total sum\n",
    "#print(f'Total not transfered nacht: {total_not_transfered_nacht}')\n",
    "print(f'Total not transfered 2023: {total_not_transfered_2023}')"
   ]
  },
  {
   "cell_type": "code",
   "execution_count": 172,
   "id": "385abfc4",
   "metadata": {},
   "outputs": [
    {
     "name": "stdout",
     "output_type": "stream",
     "text": [
      "Total transfered 2023: 2003.027000000001\n"
     ]
    }
   ],
   "source": [
    "#print(f'Total transfered nacht: {total_sum_injectie_nacht_df1+total_not_transfered_nacht}')\n",
    "#print(f'Total transfered dag: {total_sum_injectie_dag_df1+total_not_transfered_dag}')\n",
    "total_transfered_2023 = total_sum_injectie_df1_2023-total_not_transfered_2023\n",
    "print(f'Total transfered 2023: {total_transfered_2023}')"
   ]
  },
  {
   "cell_type": "code",
   "execution_count": 173,
   "id": "3e84fa67",
   "metadata": {},
   "outputs": [
    {
     "name": "stdout",
     "output_type": "stream",
     "text": [
      "Rendement 2023: 0.5998415816677948\n"
     ]
    }
   ],
   "source": [
    "print(f'Rendement 2023: {total_transfered_2023 /(total_transfered_2023+total_not_transfered_2023)}')"
   ]
  },
  {
   "cell_type": "code",
   "execution_count": null,
   "id": "68f0f0e8",
   "metadata": {},
   "outputs": [],
   "source": []
  },
  {
   "cell_type": "markdown",
   "id": "561229f7",
   "metadata": {},
   "source": [
    "## Berekeningen per maand besparen met rendement ingerekend"
   ]
  },
  {
   "cell_type": "code",
   "execution_count": 174,
   "id": "86d5fc6c",
   "metadata": {},
   "outputs": [],
   "source": [
    "#Adding P2P Price and cost as a column\n",
    "merged_df_2023['P2P Price/kWh'] = merged_df_2023['Van Datum'].dt.month.map(lambda x: p2p_price[x - 1] if x <= len(p2p_price) else None)\n",
    "merged_df_2023['Extraction Price/kWh'] = merged_df_2023['Van Datum'].dt.month.map(lambda x: extraction_price[x - 1] if x <= len(p2p_price) else None)\n",
    "\n",
    "merged_df_2023['P2P Billing'] = merged_df_2023['P2PTransactie'] * merged_df_2023['P2P Price/kWh'] \n",
    "merged_df_2023['Normal Billing'] = merged_df_2023['P2PTransactie']*merged_df_2023['Extraction Price/kWh']\n",
    "merged_df_2023['Savings'] = merged_df_2023['Normal Billing'] - merged_df_2023['P2P Billing']"
   ]
  },
  {
   "cell_type": "code",
   "execution_count": 175,
   "id": "adf48cc5",
   "metadata": {},
   "outputs": [
    {
     "name": "stdout",
     "output_type": "stream",
     "text": [
      "Total savings 2023: 111.64514600000001\n"
     ]
    }
   ],
   "source": [
    "total_P2PBilling_2023 = merged_df_2023['P2P Billing'].sum()\n",
    "total_P2PSavings_2023 = merged_df_2023['Savings'].sum()\n",
    "print(f'Total savings 2023: {total_P2PSavings_2023}')"
   ]
  },
  {
   "cell_type": "code",
   "execution_count": 176,
   "id": "bf4017eb",
   "metadata": {},
   "outputs": [
    {
     "name": "stdout",
     "output_type": "stream",
     "text": [
      "   YearMonth    Savings\n",
      "0    2023-01   4.071957\n",
      "1    2023-02   4.845414\n",
      "2    2023-03   8.278589\n",
      "3    2023-04  10.884674\n",
      "4    2023-05  13.054543\n",
      "5    2023-06  23.729616\n",
      "6    2023-07   9.865957\n",
      "7    2023-08  13.615511\n",
      "8    2023-09  12.929126\n",
      "9    2023-10   5.933899\n",
      "10   2023-11   3.794500\n",
      "11   2023-12   0.641358\n"
     ]
    }
   ],
   "source": [
    "# Convert 'Van Datum' to datetime \n",
    "merged_df_2023['Van Datum'] = pd.to_datetime(merged_df_2023['Van Datum'])\n",
    "\n",
    "# Extract the year and month from 'Van Datum'\n",
    "merged_df_2023['YearMonth'] = merged_df_2023['Van Datum'].dt.to_period('M')\n",
    "\n",
    "# Group by the new 'YearMonth' column and sum 'P2P Cost'\n",
    "monthly_P2P_2023 = merged_df_2023.groupby('YearMonth')['Savings'].sum().reset_index()\n",
    "\n",
    "\n",
    "print(monthly_P2P_2023)"
   ]
  },
  {
   "cell_type": "markdown",
   "id": "5443228e",
   "metadata": {},
   "source": [
    "# Many to one calculations\n"
   ]
  },
  {
   "cell_type": "code",
   "execution_count": 215,
   "id": "c73f28b6",
   "metadata": {},
   "outputs": [
    {
     "name": "stdout",
     "output_type": "stream",
     "text": [
      "32054\n",
      "33295\n",
      "33791\n"
     ]
    }
   ],
   "source": [
    "manytoone_df_2023 = pd.merge(df1_injectie_2023, df3_injectie_2023, on=['Van Datum', 'Van Tijdstip'])\n",
    "\n",
    "manytoone_df_2023['totaal_injectie'] = manytoone_df_2023['Volume_x'] + manytoone_df_2023['Volume_y']\n",
    "\n",
    "\n",
    "#manytoone_df_2023 = manytoone_df_2023.drop(['Injectie_x', 'Injectie_y'], axis=1)\n",
    "\n",
    "# Het resulterende dataframe met de totale injectie\n",
    "print(len(manytoone_df_2023))\n",
    "print(len(df1_injectie_2023))\n",
    "print(len(df3_injectie_2023))"
   ]
  },
  {
   "cell_type": "code",
   "execution_count": 205,
   "id": "25a925f4",
   "metadata": {},
   "outputs": [
    {
     "name": "stdout",
     "output_type": "stream",
     "text": [
      "Total Sum Injectie: 7442.86\n",
      "Total Sum Afname: 21989.651\n"
     ]
    }
   ],
   "source": [
    "# TOTAL INJECTIE/AFNAME 2023\n",
    "total_sum_injectie_df1_df3_2023 = manytoone_df_2023['totaal_injectie'].sum()\n",
    "total_sum_afname_df2_2023 = df2_afname_2023['Volume'].sum()\n",
    "\n",
    "# Display the total sum\n",
    "print(f'Total Sum Injectie: {total_sum_injectie_df1_df3_2023}')\n",
    "print(f'Total Sum Afname: {total_sum_afname_df2_2023}')"
   ]
  },
  {
   "cell_type": "code",
   "execution_count": 222,
   "id": "5d6743aa",
   "metadata": {},
   "outputs": [],
   "source": [
    "#Merged for 2023 day/nbight together\n",
    "merged_df_2023 = pd.merge(df2_afname_2023, manytoone_df_2023, on=['Van Datum', 'Van Tijdstip'])\n",
    "\n",
    "merged_df_2023.rename(columns={'Volume': 'Afname'}, inplace=True)\n",
    "merged_df_2023.rename(columns={'totaal_injectie': 'Injectie'}, inplace=True)\n",
    "\n",
    "\n",
    "# Create a new column for the subtraction result\n",
    "merged_df_2023['P2PTransactie'] = merged_df_2023[['Injectie', 'Afname']].min(axis=1)\n",
    "merged_df_2023['P2POverschot'] = merged_df_2023['Injectie'] - merged_df_2023['P2PTransactie']\n",
    "\n"
   ]
  },
  {
   "cell_type": "code",
   "execution_count": 223,
   "id": "46b00250",
   "metadata": {},
   "outputs": [
    {
     "name": "stdout",
     "output_type": "stream",
     "text": [
      "Rows with negative P2POverschot in Merged DataFrame for Dag:\n",
      "       Van Datum Van Tijdstip  Afname  Injectie  P2PTransactie  P2POverschot\n",
      "46    2023-01-01     11:30:00   0.086     0.261          0.086         0.175\n",
      "47    2023-01-01     11:45:00   0.194     0.333          0.194         0.139\n",
      "48    2023-01-01     12:00:00   0.165     0.298          0.165         0.133\n",
      "49    2023-01-01     12:15:00   0.157     0.258          0.157         0.101\n",
      "52    2023-01-01     13:00:00   0.102     0.270          0.102         0.168\n",
      "...          ...          ...     ...       ...            ...           ...\n",
      "31437 2023-12-07     12:30:00   0.195     0.422          0.195         0.227\n",
      "31438 2023-12-07     12:45:00   0.186     0.298          0.186         0.112\n",
      "31716 2023-12-10     10:15:00   0.180     0.381          0.180         0.201\n",
      "31724 2023-12-10     12:15:00   0.172     0.393          0.172         0.221\n",
      "32008 2023-12-13     11:15:00   0.185     0.348          0.185         0.163\n",
      "\n",
      "[5381 rows x 6 columns]\n"
     ]
    }
   ],
   "source": [
    "negative_rows_2023 = merged_df_2023[merged_df_2023['P2POverschot'] > 0]\n",
    "print(\"Rows with negative P2POverschot in Merged DataFrame for Dag:\")\n",
    "print(negative_rows_2023[['Van Datum', 'Van Tijdstip', 'Afname', 'Injectie', 'P2PTransactie', 'P2POverschot']])\n"
   ]
  },
  {
   "cell_type": "code",
   "execution_count": 224,
   "id": "1d20f093",
   "metadata": {},
   "outputs": [
    {
     "name": "stdout",
     "output_type": "stream",
     "text": [
      "Total not transfered 2023: 4254.069\n"
     ]
    }
   ],
   "source": [
    "total_not_transfered_2023 = negative_rows_2023['P2POverschot'].sum()\n",
    "# Display the total sum\n",
    "#print(f'Total not transfered nacht: {total_not_transfered_nacht}')\n",
    "print(f'Total not transfered 2023: {total_not_transfered_2023}')"
   ]
  },
  {
   "cell_type": "code",
   "execution_count": 225,
   "id": "5284370b",
   "metadata": {},
   "outputs": [
    {
     "name": "stdout",
     "output_type": "stream",
     "text": [
      "Total transfered 2023: 3188.7909999999993\n"
     ]
    }
   ],
   "source": [
    "total_transfered_2023 = total_sum_injectie_df1_df3_2023-total_not_transfered_2023\n",
    "print(f'Total transfered 2023: {total_transfered_2023}')"
   ]
  },
  {
   "cell_type": "code",
   "execution_count": 226,
   "id": "e7789c29",
   "metadata": {},
   "outputs": [
    {
     "name": "stdout",
     "output_type": "stream",
     "text": [
      "Rendement 2023: 0.4284362462816712\n"
     ]
    }
   ],
   "source": [
    "print(f'Rendement 2023: {total_transfered_2023 /(total_transfered_2023+total_not_transfered_2023)}')"
   ]
  },
  {
   "cell_type": "code",
   "execution_count": null,
   "id": "1c83ea11",
   "metadata": {},
   "outputs": [],
   "source": []
  }
 ],
 "metadata": {
  "kernelspec": {
   "display_name": "Python 3 (ipykernel)",
   "language": "python",
   "name": "python3"
  },
  "language_info": {
   "codemirror_mode": {
    "name": "ipython",
    "version": 3
   },
   "file_extension": ".py",
   "mimetype": "text/x-python",
   "name": "python",
   "nbconvert_exporter": "python",
   "pygments_lexer": "ipython3",
   "version": "3.11.5"
  }
 },
 "nbformat": 4,
 "nbformat_minor": 5
}
